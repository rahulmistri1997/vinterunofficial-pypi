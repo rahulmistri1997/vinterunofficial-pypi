{
 "cells": [
  {
   "attachments": {},
   "cell_type": "markdown",
   "metadata": {},
   "source": [
    "## Sample Usage IPython Notebook"
   ]
  },
  {
   "cell_type": "code",
   "execution_count": null,
   "metadata": {},
   "outputs": [],
   "source": [
    "!pip install vinterunofficial"
   ]
  },
  {
   "cell_type": "code",
   "execution_count": null,
   "metadata": {},
   "outputs": [],
   "source": [
    "import pandas as pd\n",
    "import os\n",
    "from vinterunofficial import VinterAPI"
   ]
  },
  {
   "cell_type": "code",
   "execution_count": null,
   "metadata": {},
   "outputs": [],
   "source": [
    "APIKEY = os.environ.get(\"VINTER_API_KEY\", None)\n",
    "vinter_multi = VinterAPI(APIKEY, \"multi_assets\")\n",
    "vinter_single = VinterAPI(APIKEY, \"single_assets\")"
   ]
  },
  {
   "cell_type": "code",
   "execution_count": null,
   "metadata": {},
   "outputs": [],
   "source": [
    "active_symbols_multi = [symbol[\"symbol\"] for symbol in vinter_multi.get_all_active_symbols()]\n",
    "active_symbols_single = [symbol[\"symbol\"] for symbol in vinter_single.get_all_active_symbols()]"
   ]
  },
  {
   "cell_type": "code",
   "execution_count": null,
   "metadata": {},
   "outputs": [],
   "source": [
    "active_symbols_multi\n",
    "active_symbols_single"
   ]
  },
  {
   "cell_type": "code",
   "execution_count": null,
   "metadata": {},
   "outputs": [],
   "source": [
    "data = vinter_multi.get_latest_data(symbol=\"vnic-meta-10-r\", limit=1)\n",
    "single_asset_data = vinter_single.get_latest_data(symbol=\"btc-usd-p-r\", limit=1)"
   ]
  },
  {
   "cell_type": "code",
   "execution_count": null,
   "metadata": {},
   "outputs": [],
   "source": [
    "data = vinter_multi.get_data_by_date(symbol=\"vnic-meta-10-d\", dates=[\"2023-01-01\", \"2023-01-02\"])"
   ]
  },
  {
   "cell_type": "code",
   "execution_count": null,
   "metadata": {},
   "outputs": [],
   "source": [
    "df = pd.DataFrame(data)\n",
    "df"
   ]
  }
 ],
 "metadata": {
  "kernelspec": {
   "display_name": "Python 3",
   "language": "python",
   "name": "python3"
  },
  "language_info": {
   "codemirror_mode": {
    "name": "ipython",
    "version": 3
   },
   "file_extension": ".py",
   "mimetype": "text/x-python",
   "name": "python",
   "nbconvert_exporter": "python",
   "pygments_lexer": "ipython3",
   "version": "3.9.0"
  },
  "orig_nbformat": 4,
  "vscode": {
   "interpreter": {
    "hash": "19119d71171f1aefd5b7819a18c3271bffed98452248e842481c21e4515fc226"
   }
  }
 },
 "nbformat": 4,
 "nbformat_minor": 2
}
